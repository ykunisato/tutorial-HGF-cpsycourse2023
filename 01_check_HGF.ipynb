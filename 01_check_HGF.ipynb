{
 "cells": [
  {
   "cell_type": "markdown",
   "id": "b9dcac71-ffd1-47ab-b558-c8ccaad20b06",
   "metadata": {},
   "source": [
    "# HGF実行環境の確認\n",
    "\n",
    "本チュートリアルでは、以下のJuliaパッケージを使います。\n",
    "\n",
    "- ActionModels\n",
    "- HierarchicalGaussianFiltering\n",
    "- CSV\n",
    "- DataFrames\n",
    "- Plots\n",
    "- StatsPlots\n",
    "- Distributions\n",
    "\n",
    "以下を実行して、エラーなくパッケージが使えるか、ご確認ください。"
   ]
  },
  {
   "cell_type": "code",
   "execution_count": 1,
   "id": "79cfc1f6-ed55-42d6-8c77-be180b019cbc",
   "metadata": {
    "tags": []
   },
   "outputs": [],
   "source": [
    "using ActionModels\n",
    "using HierarchicalGaussianFiltering\n",
    "using CSV\n",
    "using DataFrames\n",
    "using Plots\n",
    "using StatsPlots\n",
    "using Distributions\n",
    "using LogExpFunctions\n",
    "using Turing\n",
    "using Suppressor"
   ]
  }
 ],
 "metadata": {
  "kernelspec": {
   "display_name": "Julia 1.8.5",
   "language": "julia",
   "name": "julia-1.8"
  },
  "language_info": {
   "file_extension": ".jl",
   "mimetype": "application/julia",
   "name": "julia",
   "version": "1.8.5"
  }
 },
 "nbformat": 4,
 "nbformat_minor": 5
}
